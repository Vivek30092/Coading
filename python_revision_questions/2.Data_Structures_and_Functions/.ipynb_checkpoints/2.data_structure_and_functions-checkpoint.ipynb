{
 "cells": [
  {
   "cell_type": "markdown",
   "metadata": {},
   "source": [
    "<h2>II. Data Structures and Functions (Intermediate)</h2>"
   ]
  },
  {
   "cell_type": "markdown",
   "metadata": {},
   "source": [
    "<h5>Dictionaries and Sets (Questions 31-40)</h5>"
   ]
  },
  {
   "cell_type": "markdown",
   "metadata": {},
   "source": [
    "2.31 Dictionary access: Create a dictionary representing a person (name, age, city) and print their age."
   ]
  },
  {
   "cell_type": "markdown",
   "metadata": {},
   "source": [
    "2.32. Dictionary manipulation: Add a new key-value pair to the dictionary, update an existing value, and delete a key-value pair."
   ]
  },
  {
   "cell_type": "markdown",
   "metadata": {},
   "source": [
    "2.33. Dictionary iteration: Iterate through the dictionary and print each key-value pair."
   ]
  },
  {
   "cell_type": "markdown",
   "metadata": {},
   "source": [
    "2.34. Set operations: Create two sets and find their union, intersection, and difference."
   ]
  },
  {
   "cell_type": "markdown",
   "metadata": {},
   "source": [
    "2.35. Element in set: Create a set and check if a specific element exists in it."
   ]
  },
  {
   "cell_type": "markdown",
   "metadata": {},
   "source": [
    "2.36. Dictionary from lists: Create two lists (keys and values) and create a dictionary from them."
   ]
  },
  {
   "cell_type": "markdown",
   "metadata": {},
   "source": [
    "2.37. Frequency count: Create a list and count the frequency of each element using a dictionary."
   ]
  },
  {
   "cell_type": "markdown",
   "metadata": {},
   "source": [
    "2.38. Duplicate check: Create a list and check if it contains duplicate elements using sets."
   ]
  },
  {
   "cell_type": "markdown",
   "metadata": {},
   "source": [
    "2.39. Merge dictionaries: Create two dictionaries and merge them into a new dictionary."
   ]
  },
  {
   "cell_type": "markdown",
   "metadata": {},
   "source": [
    "2.40. Set add/remove: create a set and add 3 elements to it, then remove one."
   ]
  },
  {
   "cell_type": "markdown",
   "metadata": {},
   "source": [
    "---"
   ]
  },
  {
   "cell_type": "markdown",
   "metadata": {},
   "source": [
    "<h3>Functions (Questions 41-50)</h3>"
   ]
  },
  {
   "cell_type": "markdown",
   "metadata": {},
   "source": [
    "2.41. Function with parameters: Define a function that takes two numbers as input and returns their sum."
   ]
  },
  {
   "cell_type": "code",
   "execution_count": null,
   "metadata": {},
   "outputs": [
    {
     "name": "stdout",
     "output_type": "stream",
     "text": [
      "8\n"
     ]
    }
   ],
   "source": [
    "def add(a,b):\n",
    "    return a+b\n",
    "\n",
    "\n",
    "def main():\n",
    "    print(add(int(input(\"enter first element\")), int(input((\"enter second element\")))))\n",
    "    \n",
    "main()\n",
    "\n",
    "\n"
   ]
  },
  {
   "cell_type": "markdown",
   "metadata": {},
   "source": [
    "2.42. Function call: Call the function defined in the previous question with two arguments and print the result."
   ]
  },
  {
   "cell_type": "code",
   "execution_count": null,
   "metadata": {},
   "outputs": [
    {
     "data": {
      "text/plain": [
       "7"
      ]
     },
     "execution_count": 8,
     "metadata": {},
     "output_type": "execute_result"
    }
   ],
   "source": [
    "#function is defined in previous cell\n",
    "add(3,4)"
   ]
  },
  {
   "cell_type": "markdown",
   "metadata": {},
   "source": [
    "2.43. Default arguments: Define a function with a default argument and call it with and without providing the argument."
   ]
  },
  {
   "cell_type": "code",
   "execution_count": 9,
   "metadata": {},
   "outputs": [
    {
     "name": "stdout",
     "output_type": "stream",
     "text": [
      "hello Vivek\n",
      "hello unknown\n"
     ]
    }
   ],
   "source": [
    "def welcome(name = 'unknown'):\n",
    "    print(f\"hello {name}\")\n",
    "    \n",
    "welcome('Vivek')\n",
    "welcome()"
   ]
  },
  {
   "cell_type": "markdown",
   "metadata": {},
   "source": [
    "2.44. Recursive factorial: Implement a recursive function to calculate the factorial of a number."
   ]
  },
  {
   "cell_type": "code",
   "execution_count": null,
   "metadata": {},
   "outputs": [],
   "source": []
  },
  {
   "cell_type": "markdown",
   "metadata": {},
   "source": [
    "2.45. Prime check function: Create a function to check if a number is prime."
   ]
  },
  {
   "cell_type": "markdown",
   "metadata": {},
   "source": [
    "2.46. List sum function: Create a function to find the sum of elements in a list."
   ]
  },
  {
   "cell_type": "markdown",
   "metadata": {},
   "source": [
    "2.47. String reverse function: Create a function to reverse a string."
   ]
  },
  {
   "cell_type": "markdown",
   "metadata": {},
   "source": [
    "2.48. Multiple return values: Create a function that returns the square and cube of a number."
   ]
  },
  {
   "cell_type": "code",
   "execution_count": 14,
   "metadata": {},
   "outputs": [
    {
     "data": {
      "text/plain": [
       "' 25 is the square of 5\\n                125 is the cube of 5 '"
      ]
     },
     "execution_count": 14,
     "metadata": {},
     "output_type": "execute_result"
    }
   ],
   "source": [
    "def result(number):\n",
    "    square = number * number\n",
    "    cube = number * number * number\n",
    "    return f\"\"\" {square} is the square of {number}\n",
    "                {cube} is the cube of {number} \"\"\"\n",
    "num = int(input(\"enter a number: \"))\n",
    "result(num)"
   ]
  },
  {
   "cell_type": "markdown",
   "metadata": {},
   "source": [
    "2.49. Lambda function: Use a lambda function to square each element of a list."
   ]
  },
  {
   "cell_type": "markdown",
   "metadata": {},
   "source": [
    "2.50. Map function: Use the `map()` function to apply a function that adds 5 to each element of a list."
   ]
  },
  {
   "cell_type": "markdown",
   "metadata": {},
   "source": [
    "---"
   ]
  },
  {
   "cell_type": "markdown",
   "metadata": {},
   "source": [
    "<h3>File Handling and Exceptions (Questions 51-60)<h3>"
   ]
  },
  {
   "cell_type": "markdown",
   "metadata": {},
   "source": [
    "2.51. Read file: Open a text file and print its contents."
   ]
  },
  {
   "cell_type": "markdown",
   "metadata": {},
   "source": [
    "2.52. Write file: Create a new text file and write some text to it."
   ]
  },
  {
   "cell_type": "markdown",
   "metadata": {},
   "source": [
    "2.53. Append file: Open an existing text file and append new text to it."
   ]
  },
  {
   "cell_type": "markdown",
   "metadata": {},
   "source": [
    "2.54. FileNotFoundError: Write a program that tries to open a non-existent file and handles the `FileNotFoundError` exception."
   ]
  },
  {
   "cell_type": "markdown",
   "metadata": {},
   "source": [
    "2.55. TypeError/ValueError: Write a program that tries to add a string to an integer and handles the `TypeError` and `ValueError` exceptions."
   ]
  },
  {
   "cell_type": "markdown",
   "metadata": {},
   "source": [
    "2.56. CSV read: Read data from a CSV file and print each row."
   ]
  },
  {
   "cell_type": "markdown",
   "metadata": {},
   "source": [
    "2.57. CSV write: Write data to a new CSV file."
   ]
  },
  {
   "cell_type": "markdown",
   "metadata": {},
   "source": [
    "2.58. JSON read: Read data from a JSON file and print it."
   ]
  },
  {
   "cell_type": "markdown",
   "metadata": {},
   "source": [
    "2.59. JSON write: Write a dictionary to a new JSON file."
   ]
  },
  {
   "cell_type": "markdown",
   "metadata": {},
   "source": [
    "2.60. Custom exception: Create a custom exception class and raise it in a specific situation."
   ]
  },
  {
   "cell_type": "markdown",
   "metadata": {},
   "source": [
    "---"
   ]
  }
 ],
 "metadata": {
  "kernelspec": {
   "display_name": "Python 3",
   "language": "python",
   "name": "python3"
  },
  "language_info": {
   "codemirror_mode": {
    "name": "ipython",
    "version": 3
   },
   "file_extension": ".py",
   "mimetype": "text/x-python",
   "name": "python",
   "nbconvert_exporter": "python",
   "pygments_lexer": "ipython3",
   "version": "3.13.2"
  }
 },
 "nbformat": 4,
 "nbformat_minor": 2
}
