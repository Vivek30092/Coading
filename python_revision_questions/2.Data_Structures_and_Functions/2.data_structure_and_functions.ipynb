{
 "cells": [
  {
   "cell_type": "markdown",
   "metadata": {},
   "source": [
    "<h2>II. Data Structures and Functions (Intermediate)</h2>"
   ]
  },
  {
   "cell_type": "markdown",
   "metadata": {},
   "source": [
    "<h5>Dictionaries and Sets (Questions 31-40)</h5>"
   ]
  },
  {
   "cell_type": "markdown",
   "metadata": {},
   "source": [
    "2.31 Dictionary access: Create a dictionary representing a person (name, age, city) and print their age."
   ]
  },
  {
   "cell_type": "code",
   "execution_count": 2,
   "metadata": {},
   "outputs": [
    {
     "name": "stdout",
     "output_type": "stream",
     "text": [
      "20\n"
     ]
    }
   ],
   "source": [
    "d1 = {\n",
    "    'name' : 'vivek',\n",
    "    'age' : 20,\n",
    "    'city' : 'Indore'\n",
    "}\n",
    "\n",
    "print(d1.get('age'))"
   ]
  },
  {
   "cell_type": "markdown",
   "metadata": {},
   "source": [
    "2.32. Dictionary manipulation: Add a new key-value pair to the dictionary, update an existing value, and delete a key-value pair."
   ]
  },
  {
   "cell_type": "code",
   "execution_count": 6,
   "metadata": {},
   "outputs": [
    {
     "name": "stdout",
     "output_type": "stream",
     "text": [
      "{'name': 'vivek', 'age': 20, 'city': 'Delhi', 'phone number': 'xxxxxx7897'}\n"
     ]
    }
   ],
   "source": [
    "#adding new key-value pair\n",
    "d1['sex'] = 'Male'\n",
    "d1['phone number'] = 'xxxxxx7897'\n",
    "\n",
    "#updating existing value\n",
    "d1['city'] = \"Delhi\"\n",
    "\n",
    "#deleting a key-value pair\n",
    "del d1['sex']\n",
    "print(d1)"
   ]
  },
  {
   "cell_type": "markdown",
   "metadata": {},
   "source": [
    "2.33. Dictionary iteration: Iterate through the dictionary and print each key-value pair."
   ]
  },
  {
   "cell_type": "code",
   "execution_count": null,
   "metadata": {},
   "outputs": [
    {
     "name": "stdout",
     "output_type": "stream",
     "text": [
      "('name', 'vivek')\n",
      "('age', 20)\n",
      "('city', 'Delhi')\n",
      "('phone number', 'xxxxxx7897')\n"
     ]
    }
   ],
   "source": [
    "for key in d1:\n",
    "    print(key,\":\",d1[key])\n",
    "\n",
    "    "
   ]
  },
  {
   "cell_type": "markdown",
   "metadata": {},
   "source": [
    "2.34. Set operations: Create two sets and find their union, intersection, and difference."
   ]
  },
  {
   "cell_type": "code",
   "execution_count": 2,
   "metadata": {},
   "outputs": [
    {
     "name": "stdout",
     "output_type": "stream",
     "text": [
      "{1, 2, 3, 4, 5, 6, 7, 8, 9, 10}\n",
      "{2, 4, 6, 8, 10}\n",
      "{1, 3, 5, 7, 9}\n"
     ]
    }
   ],
   "source": [
    "s1 = {1,2,3,4,5,6,7,8,9,10}\n",
    "s2 = {2,4,6,8,10}\n",
    "\n",
    "#union of sets\n",
    "print(s1.union(s2))\n",
    "\n",
    "#intersection of sets\n",
    "print(s1.intersection(s2))\n",
    "\n",
    "#difference of sets\n",
    "print(s1.difference(s2))"
   ]
  },
  {
   "cell_type": "markdown",
   "metadata": {},
   "source": [
    "2.35. Element in set: Create a set and check if a specific element exists in it."
   ]
  },
  {
   "cell_type": "code",
   "execution_count": null,
   "metadata": {},
   "outputs": [
    {
     "name": "stdout",
     "output_type": "stream",
     "text": [
      "True\n",
      "False\n"
     ]
    }
   ],
   "source": [
    "s1 = {\"pandas\",\"numpy\",\"matplotlib\",\"seaborn\",\"scikit-learn\",\"openCV\",\"tensorflow\",\"keras\",\"pytorch\",\"flask\",\"django\"}\n",
    "print('pandas' in s1)\n",
    "print('random' in s1)"
   ]
  },
  {
   "cell_type": "markdown",
   "metadata": {},
   "source": [
    "2.36. Dictionary from lists: Create two lists (keys and values) and create a dictionary from them."
   ]
  },
  {
   "cell_type": "code",
   "execution_count": null,
   "metadata": {},
   "outputs": [
    {
     "name": "stdout",
     "output_type": "stream",
     "text": [
      "{1: 1, 2: 4, 3: 9, 4: 16, 5: 25}\n"
     ]
    }
   ],
   "source": [
    "l1 = [1,2,3,4,5]\n",
    "l2 = [1,4,9,16,25]\n",
    "\n",
    "#inbuilt function for dictionary\n",
    "d2 = dict(zip(l1,l2))\n",
    "\n",
    "print(d2)\n"
   ]
  },
  {
   "cell_type": "markdown",
   "metadata": {},
   "source": [
    "2.37. Frequency count: Create a list and count the frequency of each element using a dictionary."
   ]
  },
  {
   "cell_type": "code",
   "execution_count": 30,
   "metadata": {},
   "outputs": [
    {
     "name": "stdout",
     "output_type": "stream",
     "text": [
      "banana : 3\n",
      "apple : 3\n",
      "orange : 2\n"
     ]
    }
   ],
   "source": [
    "list1 = [\"banana\",\"apple\",\"orange\",\"apple\",\"banana\",\"banana\",\"orange\",\"apple\"]\n",
    "\n",
    "dict1 = {}\n",
    "for value in list1:\n",
    "    if value in dict1:\n",
    "        dict1[value] += 1\n",
    "    else:\n",
    "        dict1[value] = 1\n",
    "        \n",
    "for key,value in dict1.items():\n",
    "    print(f\"{key} : {value}\")\n",
    "\n",
    "    "
   ]
  },
  {
   "cell_type": "markdown",
   "metadata": {},
   "source": [
    "2.38. Duplicate check: Create a list and check if it contains duplicate elements using sets."
   ]
  },
  {
   "cell_type": "code",
   "execution_count": 12,
   "metadata": {},
   "outputs": [
    {
     "name": "stdout",
     "output_type": "stream",
     "text": [
      "list contain duplicate elements\n"
     ]
    }
   ],
   "source": [
    "lst = [1,2,3,4,5,6,7,8,9,5,8,7]\n",
    "st = set(lst)\n",
    "v1 = len(st)\n",
    "v2 = len(lst)\n",
    "if(v1 != v2):\n",
    "    print(\"list contain duplicate elements\")\n",
    "else:\n",
    "    print(\"no duplicate elements found\")\n"
   ]
  },
  {
   "cell_type": "markdown",
   "metadata": {},
   "source": [
    "2.39. Merge dictionaries: Create two dictionaries and merge them into a new dictionary."
   ]
  },
  {
   "cell_type": "code",
   "execution_count": null,
   "metadata": {},
   "outputs": [
    {
     "name": "stdout",
     "output_type": "stream",
     "text": [
      "None\n"
     ]
    }
   ],
   "source": [
    "#dictionaries of square of odd number\n",
    "dOdd = {1 : 1, 3 : 6, 5 : 25, 7 : 49, 9 : 81 }\n",
    "\n",
    "#dictionaries of square of even number \n",
    "dEven = {1 : 4, 4 : 16, 6 : 36, 8 : 64, 10 : 100}\n",
    "\n"
   ]
  },
  {
   "cell_type": "markdown",
   "metadata": {},
   "source": [
    "2.40. Set add/remove: create a set and add 3 elements to it, then remove one."
   ]
  },
  {
   "cell_type": "code",
   "execution_count": 10,
   "metadata": {},
   "outputs": [
    {
     "name": "stdout",
     "output_type": "stream",
     "text": [
      "set initially:  {1, 2, 3, 4, 5, 6, 7, 8, 9, 10}\n",
      "after adding elements to set:  {1, 2, 3, 4, 5, 6, 7, 8, 9, 10, 15, 20, 25}\n",
      "after removing element from set:  {1, 2, 3, 4, 5, 6, 7, 8, 9, 10, 15, 25}\n"
     ]
    }
   ],
   "source": [
    "s1 = {1,2,3,4,5,6,7,8,9,10}\n",
    "print(\"set initially: \",s1)\n",
    "\n",
    "#adding elements 15, 20, 25 to the set\n",
    "s1.add(15)\n",
    "s1.add(20)\n",
    "s1.add(25)\n",
    "print(\"after adding elements to set: \",s1)\n",
    "\n",
    "#removing element 5 from the set\n",
    "s1.remove(20)\n",
    "print(\"after removing element from set: \",s1)\n",
    "\n"
   ]
  },
  {
   "cell_type": "markdown",
   "metadata": {},
   "source": [
    "---"
   ]
  },
  {
   "cell_type": "markdown",
   "metadata": {},
   "source": [
    "<h3>Functions (Questions 41-50)</h3>"
   ]
  },
  {
   "cell_type": "markdown",
   "metadata": {},
   "source": [
    "2.41. Function with parameters: Define a function that takes two numbers as input and returns their sum."
   ]
  },
  {
   "cell_type": "code",
   "execution_count": null,
   "metadata": {},
   "outputs": [
    {
     "name": "stdout",
     "output_type": "stream",
     "text": [
      "8\n"
     ]
    }
   ],
   "source": [
    "def add(a,b):\n",
    "    return a+b\n",
    "\n",
    "\n",
    "def main():\n",
    "    print(add(int(input(\"enter first element\")), int(input((\"enter second element\")))))\n",
    "    \n",
    "main()\n",
    "\n",
    "\n"
   ]
  },
  {
   "cell_type": "markdown",
   "metadata": {},
   "source": [
    "2.42. Function call: Call the function defined in the previous question with two arguments and print the result."
   ]
  },
  {
   "cell_type": "code",
   "execution_count": null,
   "metadata": {},
   "outputs": [
    {
     "data": {
      "text/plain": [
       "7"
      ]
     },
     "execution_count": 8,
     "metadata": {},
     "output_type": "execute_result"
    }
   ],
   "source": [
    "#function is defined in previous cell\n",
    "add(3,4)"
   ]
  },
  {
   "cell_type": "markdown",
   "metadata": {},
   "source": [
    "2.43. Default arguments: Define a function with a default argument and call it with and without providing the argument."
   ]
  },
  {
   "cell_type": "code",
   "execution_count": 9,
   "metadata": {},
   "outputs": [
    {
     "name": "stdout",
     "output_type": "stream",
     "text": [
      "hello Vivek\n",
      "hello unknown\n"
     ]
    }
   ],
   "source": [
    "def welcome(name = 'unknown'):\n",
    "    print(f\"hello {name}\")\n",
    "    \n",
    "welcome('Vivek')\n",
    "welcome()"
   ]
  },
  {
   "cell_type": "markdown",
   "metadata": {},
   "source": [
    "2.44. Recursive factorial: Implement a recursive function to calculate the factorial of a number."
   ]
  },
  {
   "cell_type": "code",
   "execution_count": 15,
   "metadata": {},
   "outputs": [
    {
     "name": "stdout",
     "output_type": "stream",
     "text": [
      "invalid input\n"
     ]
    }
   ],
   "source": [
    "def fact(n):\n",
    "    if n == 0:\n",
    "        return 1\n",
    "    else:\n",
    "        return n*fact(n-1)\n",
    "    \n",
    "def main():\n",
    "    try:\n",
    "        n = int(input(\"enter a number:\"))\n",
    "    except ValueError:\n",
    "        print(\"invalid input\")\n",
    "        return\n",
    "    print(f\"factorial of {n} is {fact(n)}\")\n",
    "    \n",
    "main()"
   ]
  },
  {
   "cell_type": "markdown",
   "metadata": {},
   "source": [
    "2.45. Prime check function: Create a function to check if a number is prime."
   ]
  },
  {
   "cell_type": "code",
   "execution_count": 17,
   "metadata": {},
   "outputs": [
    {
     "name": "stdout",
     "output_type": "stream",
     "text": [
      "53 is a prime number.\n"
     ]
    }
   ],
   "source": [
    "def is_prime(n):\n",
    "    if n <= 1:\n",
    "        return False\n",
    "    for i in range(2, int(n**0.5) + 1):\n",
    "        if n % i == 0:\n",
    "            return False\n",
    "    return True\n",
    "\n",
    "# Input: number to check\n",
    "num = int(input(\"Enter a number: \"))\n",
    "\n",
    "# Output: check if prime\n",
    "if is_prime(num):\n",
    "    print(f\"{num} is a prime number.\")\n",
    "else:\n",
    "    print(f\"{num} is not a prime number.\")\n",
    "\n",
    "    "
   ]
  },
  {
   "cell_type": "markdown",
   "metadata": {},
   "source": [
    "2.46. List sum function: Create a function to find the sum of elements in a list."
   ]
  },
  {
   "cell_type": "code",
   "execution_count": null,
   "metadata": {},
   "outputs": [
    {
     "data": {
      "text/plain": [
       "12"
      ]
     },
     "execution_count": 32,
     "metadata": {},
     "output_type": "execute_result"
    }
   ],
   "source": [
    "l3 = [1,2,3,4,5]\n",
    "sum(l3,0)\n",
    "\n",
    "# total = 0\n",
    "# terms = len(l3)\n",
    "# for i in range(terms):\n",
    "#     total  += l3[i]\n",
    "    \n",
    "# print(total)"
   ]
  },
  {
   "cell_type": "markdown",
   "metadata": {},
   "source": [
    "2.47. String reverse function: Create a function to reverse a string."
   ]
  },
  {
   "cell_type": "code",
   "execution_count": null,
   "metadata": {},
   "outputs": [
    {
     "name": "stdout",
     "output_type": "stream",
     "text": [
      "keviv\n"
     ]
    }
   ],
   "source": [
    "def reverse(val):\n",
    "    result = val[-1::-1]\n",
    "    return result\n",
    "\n",
    "\n",
    "def main():\n",
    "    str1 = input(\"enter string :\")\n",
    "    print(reverse(str1))\n",
    "    \n",
    "    \n",
    "main()\n",
    "    "
   ]
  },
  {
   "cell_type": "markdown",
   "metadata": {},
   "source": [
    "2.48. Multiple return values: Create a function that returns the square and cube of a number."
   ]
  },
  {
   "cell_type": "code",
   "execution_count": 43,
   "metadata": {},
   "outputs": [
    {
     "data": {
      "text/plain": [
       "' 25 is the square of 5 and \\n125 is the cube of 5 '"
      ]
     },
     "execution_count": 43,
     "metadata": {},
     "output_type": "execute_result"
    }
   ],
   "source": [
    "def result(number):\n",
    "    square = number * number\n",
    "    cube = number * number * number\n",
    "    return f\"\"\" {square} is the square of {number} and \n",
    "{cube} is the cube of {number} \"\"\"\n",
    "num = int(input(\"enter a number: \"))\n",
    "result(num)"
   ]
  },
  {
   "cell_type": "markdown",
   "metadata": {},
   "source": [
    "2.49. Lambda function: Use a lambda function to square each element of a list."
   ]
  },
  {
   "cell_type": "code",
   "execution_count": null,
   "metadata": {},
   "outputs": [
    {
     "name": "stdout",
     "output_type": "stream",
     "text": [
      "<function <lambda> at 0x0000019D68A294E0>\n",
      "<function <lambda> at 0x0000019D68A28B80>\n",
      "<function <lambda> at 0x0000019D68A294E0>\n",
      "<function <lambda> at 0x0000019D68A28B80>\n",
      "<function <lambda> at 0x0000019D68A294E0>\n"
     ]
    }
   ],
   "source": []
  },
  {
   "cell_type": "markdown",
   "metadata": {},
   "source": [
    "2.50. Map function: Use the `map()` function to apply a function that adds 5 to each element of a list."
   ]
  },
  {
   "cell_type": "code",
   "execution_count": null,
   "metadata": {},
   "outputs": [
    {
     "name": "stdout",
     "output_type": "stream",
     "text": [
      "[6]\n"
     ]
    }
   ],
   "source": []
  },
  {
   "cell_type": "markdown",
   "metadata": {},
   "source": [
    "---"
   ]
  },
  {
   "cell_type": "markdown",
   "metadata": {},
   "source": [
    "<h3>File Handling and Exceptions (Questions 51-60)<h3>"
   ]
  },
  {
   "cell_type": "markdown",
   "metadata": {},
   "source": [
    "2.51. Read file: Open a text file and print its contents."
   ]
  },
  {
   "cell_type": "code",
   "execution_count": 2,
   "metadata": {},
   "outputs": [
    {
     "name": "stdout",
     "output_type": "stream",
     "text": [
      "          Why?\n",
      "we work, we try to be better\n",
      "we work with full zest \n",
      "but, why is that we just don't know any letter.\n",
      "\n",
      "we still give our best.\n",
      "we have to steal.\n",
      "but, why is that we still don't get a meal.\n",
      "\n",
      "we don't get luxury, \n",
      "we don't get childhood,\n",
      "but we still work,\n",
      "not for us, but for all the others.\n",
      "\n",
      "why is it that some kids wear shoes,BUT we make them?\n",
      "\n",
      "by     Mythili, Class 5\n",
      "\n"
     ]
    }
   ],
   "source": [
    "myFile = open(\"poem.txt\",'r')\n",
    "print(myFile.read())\n",
    "myFile.close()"
   ]
  },
  {
   "cell_type": "markdown",
   "metadata": {},
   "source": [
    "2.52. Write file: Create a new text file and write some text to it."
   ]
  },
  {
   "cell_type": "code",
   "execution_count": 8,
   "metadata": {},
   "outputs": [],
   "source": [
    "# writing into file\n",
    "fileout = open(\"newFile.txt\",\"w\")\n",
    "for i in range(2):\n",
    "    name = input(\"enter your name : \")\n",
    "    fileout.write(name)\n",
    "    fileout.write('\\n')\n",
    "    \n",
    "fileout.close()"
   ]
  },
  {
   "cell_type": "markdown",
   "metadata": {},
   "source": [
    "2.53. Append file: Open an existing text file and append new text to it."
   ]
  },
  {
   "cell_type": "code",
   "execution_count": null,
   "metadata": {},
   "outputs": [],
   "source": [
    "fh = open(\"newFile.txt\",\"a+\")\n",
    "for i in range(2):\n",
    "    name = input(\"enter your name : \")\n",
    "    fh.write(name)\n",
    "    fh.write('\\n')\n",
    "    \n",
    "fh.close()"
   ]
  },
  {
   "cell_type": "markdown",
   "metadata": {},
   "source": [
    "2.54. FileNotFoundError: Write a program that tries to open a non-existent file and handles the `FileNotFoundError` exception."
   ]
  },
  {
   "cell_type": "code",
   "execution_count": 51,
   "metadata": {},
   "outputs": [
    {
     "name": "stdout",
     "output_type": "stream",
     "text": [
      "file not found\n"
     ]
    }
   ],
   "source": [
    "try:\n",
    "    file1 = open(\"text1.txt\",\"r\")\n",
    "except FileNotFoundError:\n",
    "    print(\"file not found\")"
   ]
  },
  {
   "cell_type": "markdown",
   "metadata": {},
   "source": [
    "2.55. TypeError/ValueError: Write a program that tries to add a string to an integer and handles the `TypeError` and `ValueError` exceptions."
   ]
  },
  {
   "cell_type": "code",
   "execution_count": 30,
   "metadata": {},
   "outputs": [
    {
     "name": "stdout",
     "output_type": "stream",
     "text": [
      "invalid operation. \n",
      "you are trying to add int and string\n"
     ]
    }
   ],
   "source": [
    "str1 = \"hello, world! \"\n",
    "val1 = input(\"enter value : \")\n",
    "try:\n",
    "    val1 = int(val1)\n",
    "except ValueError:\n",
    "    print(\"you entered string\")\n",
    "try:\n",
    "    add = str1 + val1\n",
    "    print(add)\n",
    "except TypeError:\n",
    "    print(\"invalid operation. \\nyou are trying to add int and string\")"
   ]
  },
  {
   "cell_type": "markdown",
   "metadata": {},
   "source": [
    "2.56. CSV read: Read data from a CSV file and print each row."
   ]
  },
  {
   "cell_type": "markdown",
   "metadata": {},
   "source": [
    "2.57. CSV write: Write data to a new CSV file."
   ]
  },
  {
   "cell_type": "markdown",
   "metadata": {},
   "source": [
    "2.58. JSON read: Read data from a JSON file and print it."
   ]
  },
  {
   "cell_type": "markdown",
   "metadata": {},
   "source": [
    "2.59. JSON write: Write a dictionary to a new JSON file."
   ]
  },
  {
   "cell_type": "markdown",
   "metadata": {},
   "source": [
    "2.60. Custom exception: Create a custom exception class and raise it in a specific situation."
   ]
  },
  {
   "cell_type": "markdown",
   "metadata": {},
   "source": [
    "---"
   ]
  }
 ],
 "metadata": {
  "kernelspec": {
   "display_name": "Python 3",
   "language": "python",
   "name": "python3"
  },
  "language_info": {
   "codemirror_mode": {
    "name": "ipython",
    "version": 3
   },
   "file_extension": ".py",
   "mimetype": "text/x-python",
   "name": "python",
   "nbconvert_exporter": "python",
   "pygments_lexer": "ipython3",
   "version": "3.13.2"
  }
 },
 "nbformat": 4,
 "nbformat_minor": 2
}
