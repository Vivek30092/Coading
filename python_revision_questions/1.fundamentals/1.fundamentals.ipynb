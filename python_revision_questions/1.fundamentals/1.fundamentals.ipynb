{
 "cells": [
  {
   "cell_type": "markdown",
   "metadata": {},
   "source": [
    "<h2>1. Python Fundamentals (Beginner)</h2>"
   ]
  },
  {
   "cell_type": "markdown",
   "metadata": {},
   "source": [
    " <h5>Variables and Data Types (Questions 1-10)</h5>"
   ]
  },
  {
   "cell_type": "markdown",
   "metadata": {},
   "source": [
    "1.1 Declare variables: Declare an integer variable named `age` and assign it the value 25, a float variable named `price` and assign it the value 19.99, a string variable named `name` and assign it your name, and a boolean variable named `is_student` and assign it `True`."
   ]
  },
  {
   "cell_type": "code",
   "execution_count": 1,
   "metadata": {},
   "outputs": [],
   "source": [
    "age = 25\n",
    "price = 19.99\n",
    "name = \"Vivek Kumar Choudhary\"\n",
    "is_student = True"
   ]
  },
  {
   "cell_type": "markdown",
   "metadata": {},
   "source": [
    "1.2 Arithmetic operations: Write a program that takes two numbers as input and prints their sum, difference, product, and quotient."
   ]
  },
  {
   "cell_type": "code",
   "execution_count": 5,
   "metadata": {},
   "outputs": [
    {
     "name": "stdout",
     "output_type": "stream",
     "text": [
      "\n",
      "addition = 8\n",
      "subtraction = 2\n",
      "product = 15\n",
      "quotient = 1\n",
      "\n"
     ]
    }
   ],
   "source": [
    "num1 = int(input(\"Enter first number: \"))\n",
    "num2 = int(input(\"Enter second number: \"))\n",
    "try:\n",
    "    result=num1//num2\n",
    "except ZeroDivisionError:\n",
    "    print(\"division can't performed because denominator is ZERO.\")\n",
    "print(f\"\"\"\n",
    "addition = {num1+num2}\n",
    "subtraction = {num1-num2}\n",
    "product = {num2*num1}\n",
    "quotient = {result}\n",
    "\"\"\")\n",
    "\n"
   ]
  },
  {
   "cell_type": "markdown",
   "metadata": {},
   "source": [
    "1.3 String concatenation: Write a program that takes two strings as input and prints their concatenation with a space in between."
   ]
  },
  {
   "cell_type": "code",
   "execution_count": null,
   "metadata": {},
   "outputs": [
    {
     "name": "stdout",
     "output_type": "stream",
     "text": [
      "result string after concatenation...\n",
      "vivek kumar\n"
     ]
    }
   ],
   "source": [
    "str1 = input(\"enter first string: \")\n",
    "str2 = input(\"enter second string: \")\n",
    "print(\"result string after concatenation...\")\n",
    "print(str1,str2)"
   ]
  },
  {
   "cell_type": "markdown",
   "metadata": {},
   "source": [
    "1.4  Type conversion: Write a program that takes a string representing an integer as input, converts it to an integer, adds 10 to it, and prints the result. Then, convert the result back to a string and print it."
   ]
  },
  {
   "cell_type": "code",
   "execution_count": null,
   "metadata": {},
   "outputs": [
    {
     "name": "stdout",
     "output_type": "stream",
     "text": [
      "15\n"
     ]
    }
   ],
   "source": [
    "try:\n",
    "    number = input(\"enter integer number: \")\n",
    "    number = int(number)\n",
    "    number +=10\n",
    "    print(number)\n",
    "    number = str(number)\n",
    "except:\n",
    "    print(\"enter only integer number\")"
   ]
  },
  {
   "cell_type": "markdown",
   "metadata": {},
   "source": [
    "1.5  Check data type: Write a program that takes a variable as input and prints its data type using the `type()` function."
   ]
  },
  {
   "cell_type": "code",
   "execution_count": null,
   "metadata": {},
   "outputs": [
    {
     "name": "stdout",
     "output_type": "stream",
     "text": [
      "the type of the input is:  <class 'str'>\n"
     ]
    }
   ],
   "source": [
    "var = input(\"enter string\")\n",
    "\n",
    "try:\n",
    "    var = int(var)\n",
    "except ValueError:\n",
    "    try:\n",
    "        var = float(var)\n",
    "    except ValueError:\n",
    "        pass\n",
    "    \n",
    "print(\"the type of the input is: \",type(var))"
   ]
  },
  {
   "cell_type": "markdown",
   "metadata": {},
   "source": [
    "1.6 F-strings: Write a program that takes a person's name and age as input and prints a formatted string like \"Hello, [name]. You are [age] years old.\" using f-strings"
   ]
  },
  {
   "cell_type": "code",
   "execution_count": null,
   "metadata": {},
   "outputs": [
    {
     "name": "stdout",
     "output_type": "stream",
     "text": [
      "Hello, vivek kumar choudhary. You are 20 years old.\n"
     ]
    }
   ],
   "source": [
    "name = input('what\\'s your name: ')\n",
    "age = int(input(\"what's your age: \"))\n",
    "print(f\"Hello, {name}. You are {age} years old.\")"
   ]
  },
  {
   "cell_type": "markdown",
   "metadata": {},
   "source": [
    "1.7 Boolean operators: Write a program that takes two boolean inputs and prints the result of their `and`, `or`, and `not` operations."
   ]
  },
  {
   "cell_type": "code",
   "execution_count": 11,
   "metadata": {},
   "outputs": [
    {
     "name": "stdout",
     "output_type": "stream",
     "text": [
      " \n",
      "result of 'and' operator for False and True is: True\n",
      "result of 'or' operator for False and True is: False\n",
      "result of 'not' operator is: False for False and True for second input\n",
      "\n"
     ]
    }
   ],
   "source": [
    "input1 = input(\"enter first input(True/False)\")\n",
    "input2 = input(\"enter second input(True/False)\")\n",
    "\n",
    "result1 = input1 and input2\n",
    "result2 = input1 or input2\n",
    "result3 = not input1\n",
    "result4 = not input2\n",
    "\n",
    "\n",
    "print(f\"\"\" \n",
    "result of 'and' operator for {input1} and {input2} is: {result1}\n",
    "result of 'or' operator for {input1} and {input2} is: {result2}\n",
    "result of 'not' operator is: {result3} for {input1} and {result4} for {input2}\n",
    "\"\"\")\n"
   ]
  },
  {
   "cell_type": "markdown",
   "metadata": {},
   "source": [
    "1.8 User input: Write a program that takes a user's name as input and prints \"Hello, [name]!\"."
   ]
  },
  {
   "cell_type": "code",
   "execution_count": 12,
   "metadata": {},
   "outputs": [
    {
     "name": "stdout",
     "output_type": "stream",
     "text": [
      "Hello, vivek!.\n"
     ]
    }
   ],
   "source": [
    "name = input('what\\'s your name: ')\n",
    "print(f\"Hello, {name}!.\")\n"
   ]
  },
  {
   "cell_type": "markdown",
   "metadata": {},
   "source": [
    "1.9 Area of a circle: Write a program that takes the radius of a circle as input and prints its area. (Use $\\pi$ from the `math` module)."
   ]
  },
  {
   "cell_type": "code",
   "execution_count": null,
   "metadata": {},
   "outputs": [],
   "source": [
    "import math\n",
    "radius = int(input(\"enter radius of circle: \"))\n",
    "area = math.pi*math.pow(radius,2)\n",
    "print(area)"
   ]
  },
  {
   "cell_type": "markdown",
   "metadata": {},
   "source": [
    "1.10 String case conversion: Write a program that takes a string as input and prints its uppercase and lowercase versions.\n"
   ]
  },
  {
   "cell_type": "code",
   "execution_count": null,
   "metadata": {},
   "outputs": [],
   "source": [
    "string = input(\"input any string: \")\n",
    "upper = string.upper()\n",
    "lower = string.lower()\n",
    "print(f\"\"\"\n",
    "string before operation : {string}\n",
    "string in uppercase : {upper}\n",
    "string in lowercase : {lower}\n",
    "      \"\"\")"
   ]
  },
  {
   "cell_type": "markdown",
   "metadata": {},
   "source": [
    "---\n"
   ]
  },
  {
   "cell_type": "markdown",
   "metadata": {},
   "source": [
    "<h5>Control Flow (Questions 11-20):<h5>"
   ]
  },
  {
   "cell_type": "markdown",
   "metadata": {},
   "source": [
    "1.11 Conditional statements: Write a program that takes a number as input and prints \"Positive\" if it's positive, \"Negative\" if it's negative, and \"Zero\" if it's zero."
   ]
  },
  {
   "cell_type": "code",
   "execution_count": null,
   "metadata": {},
   "outputs": [],
   "source": [
    "number = int(input(\"enter number: \"))\n",
    "    \n",
    "if number > 0:\n",
    "    print(\"POSITIVE number.\")\n",
    "elif number < 0:\n",
    "    print(\"NEGATIVE number.\")\n",
    "else: \n",
    "    print(\"ZERO\")\n",
    "\n"
   ]
  },
  {
   "cell_type": "markdown",
   "metadata": {},
   "source": [
    "1.12 For loop: Write a program that prints all numbers from 1 to 10 using a `for` loop and the `range()` function."
   ]
  },
  {
   "cell_type": "code",
   "execution_count": null,
   "metadata": {},
   "outputs": [],
   "source": [
    "for i in range(10):\n",
    "    print(i+1)"
   ]
  },
  {
   "cell_type": "markdown",
   "metadata": {},
   "source": [
    "1.13 While loop: Write a program that takes a number as input and prints its factorial using a `while` loop."
   ]
  },
  {
   "cell_type": "code",
   "execution_count": null,
   "metadata": {},
   "outputs": [],
   "source": [
    "num = int(input(\"enter number to find factorial: \"))\n",
    "value=num\n",
    "result = 1\n",
    "while(num>0):\n",
    "    result = result*num\n",
    "    num = num-1\n",
    "print(f\"factorail of {value} is {result}.\")\n",
    "    "
   ]
  },
  {
   "cell_type": "markdown",
   "metadata": {},
   "source": [
    "1.14 Positive, negative, zero: Write a program that takes a number as input and prints whether it's positive, negative, or zero."
   ]
  },
  {
   "cell_type": "code",
   "execution_count": null,
   "metadata": {},
   "outputs": [],
   "source": [
    "number = int(input(\"enter number: \"))\n",
    "    \n",
    "if number > 0:\n",
    "    print(\"POSITIVE number.\")\n",
    "elif number < 0:\n",
    "    print(\"NEGATIVE number.\")\n",
    "else: \n",
    "    print(\"ZERO\")\n",
    "\n"
   ]
  },
  {
   "cell_type": "markdown",
   "metadata": {},
   "source": [
    "1.15  Largest of two: Write a program that takes two numbers as input and prints the larger one."
   ]
  },
  {
   "cell_type": "code",
   "execution_count": null,
   "metadata": {},
   "outputs": [],
   "source": [
    "num1 = input(\"enter first number: \")\n",
    "num2 = input(\"enter second number: \")\n",
    "\n",
    "if num1>num2:\n",
    "    print(f\"{num2} is greater number.\")\n",
    "else:\n",
    "    print(f\"{num1} is greater number.\")\n"
   ]
  },
  {
   "cell_type": "markdown",
   "metadata": {},
   "source": [
    "1.16 Even numbers: Write a program that prints all even numbers between 1 and 20."
   ]
  },
  {
   "cell_type": "code",
   "execution_count": null,
   "metadata": {},
   "outputs": [],
   "source": [
    "for i in range(1,21):\n",
    "    if i%2 ==0:\n",
    "        print(i)"
   ]
  },
  {
   "cell_type": "markdown",
   "metadata": {},
   "source": [
    "1.17 Odd numbers: Write a program that prints all odd numbers between 1 and 20."
   ]
  },
  {
   "cell_type": "code",
   "execution_count": null,
   "metadata": {},
   "outputs": [],
   "source": [
    "for i in range(1,21):\n",
    "    if i%2 !=0:\n",
    "        print(i)"
   ]
  },
  {
   "cell_type": "markdown",
   "metadata": {},
   "source": [
    "1.18 Menu-driven program: Create a simple menu-driven program that asks the user to choose between adding, subtracting, multiplying, or dividing two numbers."
   ]
  },
  {
   "cell_type": "code",
   "execution_count": 41,
   "metadata": {},
   "outputs": [
    {
     "name": "stdout",
     "output_type": "stream",
     "text": [
      "\n",
      "this is a menu driven program , choices are as below\n",
      "1. for addition \n",
      "2. for subtraction\n",
      "3. for multiplication\n",
      "4. for division\n",
      "5. to exit program \n",
      "\n",
      "unable to divide as denominator is zero.\n"
     ]
    }
   ],
   "source": [
    "import sys\n",
    "\n",
    "def add(a,b):\n",
    "    return a+b\n",
    "\n",
    "\n",
    "def subtract(a,b):\n",
    "    return a-b\n",
    "\n",
    "\n",
    "def multiply(a,b):\n",
    "    return a*b\n",
    "\n",
    "\n",
    "def divide(a,b):\n",
    "    return a/b\n",
    "\n",
    "\n",
    "def main():\n",
    "    print(f\"\"\"\n",
    "this is a menu driven program , choices are as below\n",
    "1. for addition \n",
    "2. for subtraction\n",
    "3. for multiplication\n",
    "4. for division\n",
    "5. to exit program \n",
    "\"\"\")\n",
    "    value1 = int(input(\"enter first value: \"))\n",
    "    value2 = int(input(\"enter second value: \"))\n",
    "    \n",
    "    \n",
    "    choice = int(input(\"enter your choice: \"))\n",
    "    if choice == 1:\n",
    "        print(\"result : \", add(value1,value2))\n",
    "    if choice == 2:\n",
    "        print(\"result : \", subtract(value1,value2))\n",
    "    if choice == 3:\n",
    "        print(\"result : \" ,multiply(value1,value2))\n",
    "    try:  \n",
    "        if choice == 4:\n",
    "            print(\"result : \", divide(value1,value2))\n",
    "    except ZeroDivisionError:\n",
    "        print(\"unable to divide as denominator is zero.\")\n",
    "    if choice == 5:\n",
    "        print(\"exiting...\")\n",
    "        sys.exit\n",
    "        \n",
    "main()\n",
    "\n",
    "\n",
    "\n"
   ]
  },
  {
   "cell_type": "markdown",
   "metadata": {},
   "source": [
    "1.19. Vowel or consonant: Write a program that takes a character as input and prints whether it's a vowel or a consonant."
   ]
  },
  {
   "cell_type": "code",
   "execution_count": 39,
   "metadata": {},
   "outputs": [
    {
     "name": "stdout",
     "output_type": "stream",
     "text": [
      "consonant\n"
     ]
    }
   ],
   "source": [
    "value = input(\"enter character: \")\n",
    "value = value.strip().lower()\n",
    "vowel = ['a','e','i','o','u']\n",
    "\n",
    "if value.isalpha():\n",
    "    if value in vowel:\n",
    "        print(\"vowel\")\n",
    "    else:\n",
    "        print(\"consonant\")\n",
    "else:\n",
    "    print(\"wrong input\")"
   ]
  },
  {
   "cell_type": "markdown",
   "metadata": {},
   "source": [
    "1.20. Password check: Write a program that takes a password as input and checks if it's at least 8 characters long."
   ]
  },
  {
   "cell_type": "code",
   "execution_count": null,
   "metadata": {},
   "outputs": [],
   "source": [
    "password = input(\"enter your password: \")\n",
    "if len(password)>8:\n",
    "    print(\"your password is longer than 8 character.\")\n",
    "elif len(password)<8:\n",
    "    print(\"your password is lesser than 8 character.\")\n",
    "else:\n",
    "    print(\"your password has 8 character.\")"
   ]
  },
  {
   "cell_type": "markdown",
   "metadata": {},
   "source": [
    "---"
   ]
  },
  {
   "cell_type": "markdown",
   "metadata": {},
   "source": [
    "<h5>Lists, Tuples, and Strings (Questions 21-30):</h5>"
   ]
  },
  {
   "cell_type": "markdown",
   "metadata": {},
   "source": [
    "1.21. List indexing: Create a list of numbers and print the element at index 3."
   ]
  },
  {
   "cell_type": "code",
   "execution_count": 44,
   "metadata": {},
   "outputs": [
    {
     "name": "stdout",
     "output_type": "stream",
     "text": [
      "5\n"
     ]
    }
   ],
   "source": [
    "l1 = [1,4,2,5,98,92,23]\n",
    "print(l1[3])"
   ]
  },
  {
   "cell_type": "markdown",
   "metadata": {},
   "source": [
    "1.22. List manipulation: Create a list, append a new element, insert an element at a specific index, and remove an element."
   ]
  },
  {
   "cell_type": "code",
   "execution_count": 1,
   "metadata": {},
   "outputs": [
    {
     "name": "stdout",
     "output_type": "stream",
     "text": [
      "given list is :  4\n",
      "\n",
      "program to perform list operations\n",
      "1. append\n",
      "2. insert at perticular index\n",
      "3. remove element\n",
      "4. show list\n",
      "5. exit\n",
      "select an option:\n",
      "4\n",
      "exiting...\n"
     ]
    },
    {
     "ename": "SystemExit",
     "evalue": "",
     "output_type": "error",
     "traceback": [
      "An exception has occurred, use %tb to see the full traceback.\n",
      "\u001b[31mSystemExit\u001b[39m\n"
     ]
    },
    {
     "name": "stderr",
     "output_type": "stream",
     "text": [
      "C:\\Users\\housh\\AppData\\Roaming\\Python\\Python313\\site-packages\\IPython\\core\\interactiveshell.py:3557: UserWarning: To exit: use 'exit', 'quit', or Ctrl-D.\n",
      "  warn(\"To exit: use 'exit', 'quit', or Ctrl-D.\", stacklevel=1)\n"
     ]
    }
   ],
   "source": [
    "import sys\n",
    "lst = eval(input(\"enter list: \"))\n",
    "print(\"given list is : \", lst)\n",
    "def main():\n",
    "    print(f\"\"\"\n",
    "program to perform list operations\n",
    "1. append\n",
    "2. insert at perticular index\n",
    "3. remove element\n",
    "4. show list\n",
    "5. exit\n",
    "select an option:\"\"\")\n",
    "    choice = int(input())\n",
    "    if choice == 1:\n",
    "        lst.append(input(\"enter element to append: \"))\n",
    "        print(lst)\n",
    "    elif choice == 2:\n",
    "        lst.insert(int(input(\"enter index: \")), input(\"enter element to insert: \"))\n",
    "        print(lst)\n",
    "    elif choice == 3:\n",
    "        try:\n",
    "            lst.remove(input(\"enter element to remove: \"))\n",
    "            print(lst)\n",
    "        except ValueError:\n",
    "            print(\"element not found in list\")\n",
    "    elif choice == 4:\n",
    "        print(lst)\n",
    "        print(\"exiting...\")\n",
    "        sys.exit()\n",
    "        \n",
    "        \n",
    "main()"
   ]
  },
  {
   "cell_type": "markdown",
   "metadata": {},
   "source": [
    "1.23. List iteration: Iterate through a list of strings and print each string."
   ]
  },
  {
   "cell_type": "code",
   "execution_count": 45,
   "metadata": {},
   "outputs": [
    {
     "name": "stdout",
     "output_type": "stream",
     "text": [
      "Harry\n",
      "Ron\n",
      "Hermione\n",
      "Draco\n",
      "Snape\n",
      "Hagrid\n",
      "Lily\n",
      "James\n",
      "Vodemort\n"
     ]
    }
   ],
   "source": [
    "list1 = ['Harry','Ron','Hermione','Draco','Snape','Hagrid','Lily','James','Vodemort']\n",
    "for element in list1:\n",
    "    print(element)"
   ]
  },
  {
   "cell_type": "markdown",
   "metadata": {},
   "source": [
    "1.24. Tuple access: Create a tuple of numbers and print the element at index 2."
   ]
  },
  {
   "cell_type": "code",
   "execution_count": 3,
   "metadata": {},
   "outputs": [
    {
     "name": "stdout",
     "output_type": "stream",
     "text": [
      "3\n"
     ]
    }
   ],
   "source": [
    "t = (1,2,3,4,5,6,7,8,9,10)\n",
    "print(t[2])"
   ]
  },
  {
   "cell_type": "markdown",
   "metadata": {},
   "source": [
    "1.25. Tuple immutability: Try to change an element of a tuple and observe the error."
   ]
  },
  {
   "cell_type": "code",
   "execution_count": 4,
   "metadata": {},
   "outputs": [
    {
     "ename": "TypeError",
     "evalue": "'tuple' object does not support item assignment",
     "output_type": "error",
     "traceback": [
      "\u001b[31m---------------------------------------------------------------------------\u001b[39m",
      "\u001b[31mTypeError\u001b[39m                                 Traceback (most recent call last)",
      "\u001b[36mCell\u001b[39m\u001b[36m \u001b[39m\u001b[32mIn[4]\u001b[39m\u001b[32m, line 2\u001b[39m\n\u001b[32m      1\u001b[39m t = (\u001b[32m1\u001b[39m,\u001b[32m2\u001b[39m,\u001b[32m3\u001b[39m,\u001b[32m4\u001b[39m,\u001b[32m5\u001b[39m,\u001b[32m6\u001b[39m,\u001b[32m7\u001b[39m,\u001b[32m8\u001b[39m,\u001b[32m9\u001b[39m,\u001b[32m10\u001b[39m)\n\u001b[32m----> \u001b[39m\u001b[32m2\u001b[39m \u001b[43mt\u001b[49m\u001b[43m[\u001b[49m\u001b[32;43m0\u001b[39;49m\u001b[43m]\u001b[49m = \u001b[32m100\u001b[39m\n",
      "\u001b[31mTypeError\u001b[39m: 'tuple' object does not support item assignment"
     ]
    }
   ],
   "source": [
    "t = (1,2,3,4,5,6,7,8,9,10)\n",
    "t[0] = 100\n"
   ]
  },
  {
   "cell_type": "markdown",
   "metadata": {},
   "source": [
    "1.26. String slicing: Take a string as input and print the substring from index 2 to 5."
   ]
  },
  {
   "cell_type": "code",
   "execution_count": null,
   "metadata": {},
   "outputs": [],
   "source": [
    "str1 = input(\"enter the string:\")\n",
    "print(str1[2:6])"
   ]
  },
  {
   "cell_type": "markdown",
   "metadata": {},
   "source": [
    "1.27. String length: Take a string as input and print its length."
   ]
  },
  {
   "cell_type": "code",
   "execution_count": null,
   "metadata": {},
   "outputs": [],
   "source": [
    "str1 = input(\"enter string to count length: \")\n",
    "print(\"length of string is\",len(str1))"
   ]
  },
  {
   "cell_type": "markdown",
   "metadata": {},
   "source": [
    "1.28. Character count: Take a string and a character as input, and print the number of times the character appears in the string."
   ]
  },
  {
   "cell_type": "code",
   "execution_count": null,
   "metadata": {},
   "outputs": [],
   "source": [
    "string = input(\"enter string: \")\n",
    "char = input(\"enter character to count: \")\n",
    "count = 0\n",
    "for i in string:\n",
    "    if i==char:\n",
    "        count +=1\n",
    "        \n",
    "print(count)\n",
    "        "
   ]
  },
  {
   "cell_type": "markdown",
   "metadata": {},
   "source": [
    "1.29. Reverse a list: Take a list as input and print the list in reverse order."
   ]
  },
  {
   "cell_type": "code",
   "execution_count": 6,
   "metadata": {},
   "outputs": [
    {
     "name": "stdout",
     "output_type": "stream",
     "text": [
      "['vivek', 3, 2, 3, 5, 4, 2, 3, 4, 3]\n"
     ]
    }
   ],
   "source": [
    "str = eval(input(\"enter string:\"))\n",
    "print(str[::-1])"
   ]
  },
  {
   "cell_type": "markdown",
   "metadata": {},
   "source": [
    "1.30. String split: Take a sentence as input and print a list of its words."
   ]
  },
  {
   "cell_type": "code",
   "execution_count": 7,
   "metadata": {},
   "outputs": [
    {
     "name": "stdout",
     "output_type": "stream",
     "text": [
      "['my', 'name', 'is', 'vivek']\n"
     ]
    }
   ],
   "source": [
    "sen = input('enter sentence:')\n",
    "words = sen.split()\n",
    "print(words)"
   ]
  }
 ],
 "metadata": {
  "kernelspec": {
   "display_name": "Python 3",
   "language": "python",
   "name": "python3"
  },
  "language_info": {
   "codemirror_mode": {
    "name": "ipython",
    "version": 3
   },
   "file_extension": ".py",
   "mimetype": "text/x-python",
   "name": "python",
   "nbconvert_exporter": "python",
   "pygments_lexer": "ipython3",
   "version": "3.13.2"
  }
 },
 "nbformat": 4,
 "nbformat_minor": 2
}
