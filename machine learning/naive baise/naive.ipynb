{
 "cells": [
  {
   "cell_type": "code",
   "execution_count": 2,
   "id": "308e7624",
   "metadata": {},
   "outputs": [
    {
     "name": "stdout",
     "output_type": "stream",
     "text": [
      "Number of mislabeled points out of a total 75 points : 4\n"
     ]
    }
   ],
   "source": [
    "from sklearn.datasets import load_iris\n",
    "from sklearn.model_selection import train_test_split\n",
    "from sklearn.naive_bayes import GaussianNB\n",
    "x,y = load_iris(return_X_y=True)\n",
    "x_train,x_test,y_train,y_test = train_test_split(x,y,test_size = 0.5,random_state=0)\n",
    "gnb = GaussianNB()\n",
    "y_pred = gnb.fit(x_train,y_train).predict(x_test) \n",
    "print(\"Number of mislabeled points out of a total %d points : %d\" % (x_test.shape[0], (y_test != y_pred).sum()))"
   ]
  }
 ],
 "metadata": {
  "kernelspec": {
   "display_name": "Python 3",
   "language": "python",
   "name": "python3"
  },
  "language_info": {
   "codemirror_mode": {
    "name": "ipython",
    "version": 3
   },
   "file_extension": ".py",
   "mimetype": "text/x-python",
   "name": "python",
   "nbconvert_exporter": "python",
   "pygments_lexer": "ipython3",
   "version": "3.13.2"
  }
 },
 "nbformat": 4,
 "nbformat_minor": 5
}
