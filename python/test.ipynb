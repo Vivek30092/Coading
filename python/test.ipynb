{
 "cells": [
  {
   "cell_type": "code",
   "execution_count": 8,
   "metadata": {},
   "outputs": [
    {
     "name": "stdout",
     "output_type": "stream",
     "text": [
      "original list is : [30, 14, 27, 5, 19, 20]\n",
      "0 0 [14, 30, 27, 5, 19, 20]\n",
      "0 1 [14, 27, 30, 5, 19, 20]\n",
      "0 2 [14, 27, 5, 30, 19, 20]\n",
      "0 3 [14, 27, 5, 19, 30, 20]\n",
      "0 4 [14, 27, 5, 19, 20, 30]\n",
      "1 0 [14, 27, 5, 19, 20, 30]\n",
      "1 1 [14, 5, 27, 19, 20, 30]\n",
      "1 2 [14, 5, 19, 27, 20, 30]\n",
      "1 3 [14, 5, 19, 20, 27, 30]\n",
      "2 0 [5, 14, 19, 20, 27, 30]\n",
      "2 1 [5, 14, 19, 20, 27, 30]\n",
      "2 2 [5, 14, 19, 20, 27, 30]\n",
      "3 0 [5, 14, 19, 20, 27, 30]\n",
      "3 1 [5, 14, 19, 20, 27, 30]\n",
      "4 0 [5, 14, 19, 20, 27, 30]\n"
     ]
    }
   ],
   "source": [
    "aList = [30,14,27,5,19,20]\n",
    "print(\"original list is :\",aList)\n",
    "\n",
    "n = len(aList)\n",
    "for i in range(n):\n",
    "    for j in range(0,n-i-1):\n",
    "        if aList[j]>aList[j+1]:\n",
    "            aList[j],aList[j+1]=aList[j+1],aList[j]\n",
    "        print(i , j , aList)"
   ]
  },
  {
   "cell_type": "code",
   "execution_count": 2,
   "metadata": {},
   "outputs": [],
   "source": [
    "for i in range(0,0):\n",
    "    print(i)"
   ]
  }
 ],
 "metadata": {
  "kernelspec": {
   "display_name": "Python 3",
   "language": "python",
   "name": "python3"
  },
  "language_info": {
   "codemirror_mode": {
    "name": "ipython",
    "version": 3
   },
   "file_extension": ".py",
   "mimetype": "text/x-python",
   "name": "python",
   "nbconvert_exporter": "python",
   "pygments_lexer": "ipython3",
   "version": "3.13.2"
  }
 },
 "nbformat": 4,
 "nbformat_minor": 2
}
