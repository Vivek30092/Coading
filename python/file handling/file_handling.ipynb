{
 "cells": [
  {
   "cell_type": "code",
   "execution_count": null,
   "id": "41138e24",
   "metadata": {},
   "outputs": [
    {
     "name": "stdout",
     "output_type": "stream",
     "text": [
      "          Why?\n",
      "we work, we try\n",
      " to be better\n",
      "we work with ful\n"
     ]
    }
   ],
   "source": [
    "myfile = open(\"poem.txt\",\"r\")\n",
    "\n",
    "# #to read entire content of file\n",
    "myfile.read()\n",
    "\n",
    "# to read n byes from file\n",
    "str1 = myfile.read(30)\n",
    "print(str1)\n",
    "# read next n bytes from file\n",
    "str2 = myfile.read(30)\n",
    "print(str2)"
   ]
  },
  {
   "cell_type": "code",
   "execution_count": 22,
   "id": "dd98cc5c",
   "metadata": {},
   "outputs": [
    {
     "name": "stdout",
     "output_type": "stream",
     "text": [
      "but, why is that we just don't know any letter.\n",
      "\n",
      "we still give our best.\n",
      "we have to steal.\n",
      "but, why is that we still don't get a meal.\n",
      "\n",
      "we don't get luxury, \n",
      "we don't get childhood,\n",
      "but we still work,\n",
      "not for us, but for all the others.\n",
      "\n",
      "why is it that some kids wear shoes,BUT we make them?\n",
      "\n",
      "by     Mythili, Class 5\n",
      "\n"
     ]
    }
   ],
   "source": [
    "print(myfile.read())\n",
    "myfile.close()"
   ]
  },
  {
   "cell_type": "code",
   "execution_count": 3,
   "id": "fe1599a5",
   "metadata": {},
   "outputs": [
    {
     "name": "stdout",
     "output_type": "stream",
     "text": [
      "          Why?\n",
      "\n",
      "we work, we try to be better\n",
      "\n",
      "we work with full zest \n",
      "\n"
     ]
    }
   ],
   "source": [
    "myfile = open(\"poem.txt\",\"r\")\n",
    "# to read file line by line\n",
    "print(myfile.readline())\n",
    "print(myfile.readline())\n",
    "print(myfile.readline())\n"
   ]
  },
  {
   "cell_type": "code",
   "execution_count": 12,
   "id": "514ebf01",
   "metadata": {},
   "outputs": [
    {
     "name": "stdout",
     "output_type": "stream",
     "text": [
      "          Why?\n",
      " we work, we try to be better\n",
      " we work with full zest \n",
      " but, why is that we just don't know any letter.\n",
      " \n",
      " we still give our best.\n",
      " we have to steal.\n",
      " but, why is that we still don't get a meal.\n",
      " \n",
      " we don't get luxury, \n",
      " we don't get childhood,\n",
      " but we still work,\n",
      " not for us, but for all the others.\n",
      " \n",
      " why is it that some kids wear shoes,BUT we make them?\n",
      " \n",
      " by     Mythili, Class 5\n",
      " "
     ]
    }
   ],
   "source": [
    "# reading a complete file line-by-line\n",
    "\n",
    "myfile = open(\"poem.txt\",\"r\")\n",
    "for line in myfile:\n",
    "    print(line,end=' ')\n",
    "    "
   ]
  },
  {
   "cell_type": "code",
   "execution_count": 18,
   "id": "2c1278a0",
   "metadata": {},
   "outputs": [
    {
     "name": "stdout",
     "output_type": "stream",
     "text": [
      "total size of file : 385\n",
      "size after removing EOL characters : 356\n"
     ]
    }
   ],
   "source": [
    "myfile = open(\"poem.txt\",\"r\")\n",
    "size = 0;\n",
    "NLSize = 0;\n",
    "for line in myfile:\n",
    "    size = size + len(line)\n",
    "    NLSize = NLSize + len(line.strip())\n",
    "    \n",
    "print(\"total size of file :\",  size)\n",
    "print(\"size after removing EOL characters :\" ,NLSize)"
   ]
  },
  {
   "cell_type": "code",
   "execution_count": 20,
   "id": "f21b7e5b",
   "metadata": {},
   "outputs": [
    {
     "name": "stdout",
     "output_type": "stream",
     "text": [
      "['          Why?\\n', 'we work, we try to be better\\n', 'we work with full zest \\n', \"but, why is that we just don't know any letter.\\n\", '\\n', 'we still give our best.\\n', 'we have to steal.\\n', \"but, why is that we still don't get a meal.\\n\", '\\n', \"we don't get luxury, \\n\", \"we don't get childhood,\\n\", 'but we still work,\\n', 'not for us, but for all the others.\\n', '\\n', 'why is it that some kids wear shoes,BUT we make them?\\n', '\\n', 'by     Mythili, Class 5\\n']\n"
     ]
    }
   ],
   "source": [
    "# reading the complete file in a list\n",
    "myfile = open(\"poem.txt\")\n",
    "s = myfile.readlines()    #return list of line of file\n",
    "print(s)\n"
   ]
  },
  {
   "cell_type": "code",
   "execution_count": null,
   "id": "3b2e3d22",
   "metadata": {},
   "outputs": [
    {
     "name": "stdout",
     "output_type": "stream",
     "text": [
      "size of file poem.txt is 385\n"
     ]
    }
   ],
   "source": [
    "#program to check size of file\n",
    "\n",
    "myfile = open(\"poem.txt\",\"r\")\n",
    "print(f\"size of file poem.txt is {len(myfile.read())}\")"
   ]
  },
  {
   "cell_type": "code",
   "execution_count": 32,
   "id": "0b8bfb47",
   "metadata": {},
   "outputs": [
    {
     "name": "stdout",
     "output_type": "stream",
     "text": [
      "17\n"
     ]
    }
   ],
   "source": [
    "# program to find number of lines in file\n",
    "myfile = open(\"poem.txt\",\"r\")\n",
    "s = myfile.readlines()\n",
    "linecount = len(s)\n",
    "    \n",
    "print(linecount)"
   ]
  },
  {
   "cell_type": "code",
   "execution_count": 40,
   "id": "64244bc8",
   "metadata": {},
   "outputs": [],
   "source": [
    "# writing into file\n",
    "fileout = open(\"data.dat\",\"w\")\n",
    "for i in range(5):\n",
    "    name = input(\"enter your name : \")\n",
    "    fileout.write(name)\n",
    "    fileout.write('\\n')\n",
    "    \n",
    "fileout.close()"
   ]
  },
  {
   "cell_type": "code",
   "execution_count": 43,
   "id": "5b6d2770",
   "metadata": {},
   "outputs": [],
   "source": [
    "# writing into file using writelines() function\n",
    "# writelines writes the content of a list to a file\n",
    "fileout = open(\"data.dat\",\"w\")\n",
    "list1 = []\n",
    "for i in range(5):\n",
    "    name = input(\"enter name of student : \")\n",
    "    list1.append(name + '\\n')\n",
    "    \n",
    "fileout.writelines(list1)\n",
    "fileout.close()"
   ]
  },
  {
   "cell_type": "code",
   "execution_count": 73,
   "id": "7a4b7db9",
   "metadata": {},
   "outputs": [
    {
     "ename": "ValueError",
     "evalue": "invalid literal for int() with base 10: ''",
     "output_type": "error",
     "traceback": [
      "\u001b[31m---------------------------------------------------------------------------\u001b[39m",
      "\u001b[31mValueError\u001b[39m                                Traceback (most recent call last)",
      "\u001b[36mCell\u001b[39m\u001b[36m \u001b[39m\u001b[32mIn[73]\u001b[39m\u001b[32m, line 1\u001b[39m\n\u001b[32m----> \u001b[39m\u001b[32m1\u001b[39m count = \u001b[38;5;28;43mint\u001b[39;49m\u001b[43m(\u001b[49m\u001b[38;5;28;43minput\u001b[39;49m\u001b[43m(\u001b[49m\u001b[33;43m\"\u001b[39;49m\u001b[33;43menter number of students in the class : \u001b[39;49m\u001b[33;43m\"\u001b[39;49m\u001b[43m)\u001b[49m\u001b[43m)\u001b[49m\n\u001b[32m      2\u001b[39m fileout = \u001b[38;5;28mopen\u001b[39m(\u001b[33m\"\u001b[39m\u001b[33mmarks.dat\u001b[39m\u001b[33m\"\u001b[39m,\u001b[33m\"\u001b[39m\u001b[33mw\u001b[39m\u001b[33m\"\u001b[39m)\n\u001b[32m      4\u001b[39m \u001b[38;5;28;01mfor\u001b[39;00m i \u001b[38;5;129;01min\u001b[39;00m \u001b[38;5;28mrange\u001b[39m(count):\n",
      "\u001b[31mValueError\u001b[39m: invalid literal for int() with base 10: ''"
     ]
    }
   ],
   "source": [
    "count = int(input(\"enter number of students in the class : \"))\n",
    "fileout = open(\"marks.dat\",\"w\")\n",
    "\n",
    "for i in range(count):\n",
    "    print(f\"enter details of student {i+1} \")\n",
    "    name = input(\"enter your name : \")\n",
    "    roll_num = int(input(\"roll number : \"))\n",
    "    marks = float(input(\"enter your marks : \"))\n",
    "    \n",
    "    \n",
    "    rec = str(roll_num)+\",\"+name+\",\"+str(marks)+\"\\n\"\n",
    "    fileout.write(rec)\n",
    "    \n",
    "fileout.close()"
   ]
  },
  {
   "cell_type": "code",
   "execution_count": 110,
   "id": "bf069f4d",
   "metadata": {},
   "outputs": [
    {
     "name": "stdout",
     "output_type": "stream",
     "text": [
      "enter details of student 1 \n",
      "enter details of student 2 \n"
     ]
    },
    {
     "ename": "ValueError",
     "evalue": "invalid literal for int() with base 10: ''",
     "output_type": "error",
     "traceback": [
      "\u001b[31m---------------------------------------------------------------------------\u001b[39m",
      "\u001b[31mValueError\u001b[39m                                Traceback (most recent call last)",
      "\u001b[36mCell\u001b[39m\u001b[36m \u001b[39m\u001b[32mIn[110]\u001b[39m\u001b[32m, line 8\u001b[39m\n\u001b[32m      6\u001b[39m \u001b[38;5;28mprint\u001b[39m(\u001b[33mf\u001b[39m\u001b[33m\"\u001b[39m\u001b[33menter details of student \u001b[39m\u001b[38;5;132;01m{\u001b[39;00mi+\u001b[32m1\u001b[39m\u001b[38;5;132;01m}\u001b[39;00m\u001b[33m \u001b[39m\u001b[33m\"\u001b[39m)\n\u001b[32m      7\u001b[39m name = \u001b[38;5;28minput\u001b[39m(\u001b[33m\"\u001b[39m\u001b[33menter your name : \u001b[39m\u001b[33m\"\u001b[39m)\n\u001b[32m----> \u001b[39m\u001b[32m8\u001b[39m roll_num = \u001b[38;5;28;43mint\u001b[39;49m\u001b[43m(\u001b[49m\u001b[38;5;28;43minput\u001b[39;49m\u001b[43m(\u001b[49m\u001b[33;43m\"\u001b[39;49m\u001b[33;43mroll number : \u001b[39;49m\u001b[33;43m\"\u001b[39;49m\u001b[43m)\u001b[49m\u001b[43m)\u001b[49m\n\u001b[32m      9\u001b[39m marks = \u001b[38;5;28mfloat\u001b[39m(\u001b[38;5;28minput\u001b[39m(\u001b[33m\"\u001b[39m\u001b[33menter your marks : \u001b[39m\u001b[33m\"\u001b[39m))\n\u001b[32m     12\u001b[39m rec = \u001b[38;5;28mstr\u001b[39m(roll_num)+\u001b[33m\"\u001b[39m\u001b[33m,\u001b[39m\u001b[33m\"\u001b[39m+name+\u001b[33m\"\u001b[39m\u001b[33m,\u001b[39m\u001b[33m\"\u001b[39m+\u001b[38;5;28mstr\u001b[39m(marks)+\u001b[33m\"\u001b[39m\u001b[38;5;130;01m\\n\u001b[39;00m\u001b[33m\"\u001b[39m\n",
      "\u001b[31mValueError\u001b[39m: invalid literal for int() with base 10: ''"
     ]
    }
   ],
   "source": [
    "# adding more elements to file\n",
    "count = int(input(\"enter number of students in the class : \"))\n",
    "fileout = open(\"marks.dat\",\"a\")\n",
    "\n",
    "for i in range(count):\n",
    "    print(f\"enter details of student {i+1} \")\n",
    "    name = input(\"enter your name : \")\n",
    "    roll_num = int(input(\"roll number : \"))\n",
    "    marks = float(input(\"enter your marks : \"))\n",
    "    \n",
    "    \n",
    "    rec = str(roll_num)+\",\"+name+\",\"+str(marks)+\"\\n\"\n",
    "    fileout.write(rec)\n",
    "    \n",
    "fileout.close()"
   ]
  },
  {
   "cell_type": "code",
   "execution_count": 81,
   "id": "87e914c9",
   "metadata": {},
   "outputs": [
    {
     "name": "stdout",
     "output_type": "stream",
     "text": [
      "27,vivek,6.88\n",
      "15,himanshu,97.0\n",
      "22,pranjal ,96.0\n",
      "24,rohit,95.0\n",
      "10,golu,100.0\n"
     ]
    }
   ],
   "source": [
    "file = open(\"Marks.dat\",\"r\")\n",
    "# line = file.read()\n",
    "# print(line)\n",
    "\n",
    "\n",
    "for i in file:\n",
    "    print(i,end = \"\")\n",
    "    \n",
    "    \n"
   ]
  },
  {
   "cell_type": "code",
   "execution_count": 91,
   "id": "8ffe8396",
   "metadata": {},
   "outputs": [
    {
     "name": "stdout",
     "output_type": "stream",
     "text": [
      "Letter#'a'#is#a#wonderful#letter.#It#is#impossible#to#think#of#a#sentence#without#it.#We#know#this#will#never#occur.#How#mediocre#our#world#would#be#without#this#single#most#powerful#letter.#"
     ]
    }
   ],
   "source": [
    "# program to read a text file line by line and display each word separated by a \"#\"\n",
    "\n",
    "myfile1 = open(\"Answer.txt\",\"r\")\n",
    "\n",
    "line = myfile1.read()\n",
    "for i in line.split():\n",
    "    print(i,end = \"#\")"
   ]
  },
  {
   "cell_type": "code",
   "execution_count": 109,
   "id": "17b74bb0",
   "metadata": {},
   "outputs": [
    {
     "name": "stdout",
     "output_type": "stream",
     "text": [
      "58\n",
      "132\n"
     ]
    }
   ],
   "source": [
    "# read a text file and display the count of vowels and consonants in the file.\n",
    "\n",
    "\n",
    "myfile1 = open(\"Answer.txt\",\"r\")\n",
    "vcount = 0\n",
    "ccount = 0\n",
    "for ch in file:\n",
    "    ch = myfile1.read(1)\n",
    "    if ch in ['a','A','e','E','i','I','o','O','u','U']:\n",
    "        vcount += 1\n",
    "    else:\n",
    "        ccount += 1\n",
    "        \n",
    "print(vcount)\n",
    "print(ccount)\n",
    "# myfile.close()"
   ]
  },
  {
   "cell_type": "markdown",
   "id": "9f87de10",
   "metadata": {},
   "source": [
    "<h2>Flush function</h2>\n",
    "force the writing of data on disc still pending in output buffer."
   ]
  },
  {
   "cell_type": "code",
   "execution_count": 115,
   "id": "2e020cfb",
   "metadata": {},
   "outputs": [],
   "source": [
    "f = open(\"out.log\",\"w+\")\n",
    "f.write(\"the output is \\n\")\n",
    "f.write(\"My\" + \" work-status\"+ \" is \\n\")\n",
    "f.flush()\n",
    "s=\"this is next line after using flush function\"\n",
    "f.write(s)\n",
    "f.write(\"finally over \\n\")\n",
    "\n",
    "f.flush()\n",
    "f.close()"
   ]
  },
  {
   "cell_type": "code",
   "execution_count": 125,
   "id": "01b9a303",
   "metadata": {},
   "outputs": [
    {
     "name": "stdout",
     "output_type": "stream",
     "text": [
      "4\n"
     ]
    }
   ],
   "source": [
    "fh = open(\"poem.txt\",\"r\")\n",
    "line = fh.readline().rstrip('\\n').lstrip()\n",
    "print(len(line))\n",
    "fh.close()"
   ]
  }
 ],
 "metadata": {
  "kernelspec": {
   "display_name": "Python 3",
   "language": "python",
   "name": "python3"
  },
  "language_info": {
   "codemirror_mode": {
    "name": "ipython",
    "version": 3
   },
   "file_extension": ".py",
   "mimetype": "text/x-python",
   "name": "python",
   "nbconvert_exporter": "python",
   "pygments_lexer": "ipython3",
   "version": "3.13.2"
  }
 },
 "nbformat": 4,
 "nbformat_minor": 5
}
