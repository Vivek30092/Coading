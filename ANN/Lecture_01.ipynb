{
 "cells": [
  {
   "cell_type": "code",
   "execution_count": 1,
   "id": "540dc11f-b4c9-4dae-b574-8fe27dd1aafb",
   "metadata": {},
   "outputs": [
    {
     "data": {
      "text/plain": [
       "4"
      ]
     },
     "execution_count": 1,
     "metadata": {},
     "output_type": "execute_result"
    }
   ],
   "source": [
    "2+2"
   ]
  },
  {
   "cell_type": "code",
   "execution_count": 2,
   "id": "c631e17b-cd68-4d23-9eda-efafeb730774",
   "metadata": {},
   "outputs": [
    {
     "data": {
      "text/plain": [
       "0"
      ]
     },
     "execution_count": 2,
     "metadata": {},
     "output_type": "execute_result"
    }
   ],
   "source": [
    "2-2"
   ]
  },
  {
   "cell_type": "code",
   "execution_count": 3,
   "id": "cd60d9ca-fbad-4fdc-b90a-e900cc806437",
   "metadata": {},
   "outputs": [
    {
     "data": {
      "text/plain": [
       "12"
      ]
     },
     "execution_count": 3,
     "metadata": {},
     "output_type": "execute_result"
    }
   ],
   "source": [
    "4*3"
   ]
  },
  {
   "cell_type": "code",
   "execution_count": 4,
   "id": "6432c97e-601c-45e4-9fde-b1d380727956",
   "metadata": {},
   "outputs": [
    {
     "data": {
      "text/plain": [
       "1.0"
      ]
     },
     "execution_count": 4,
     "metadata": {},
     "output_type": "execute_result"
    }
   ],
   "source": [
    "3/3"
   ]
  },
  {
   "cell_type": "code",
   "execution_count": 5,
   "id": "f1c6202f-457a-4945-86e8-3d30e69df003",
   "metadata": {},
   "outputs": [
    {
     "data": {
      "text/plain": [
       "4"
      ]
     },
     "execution_count": 5,
     "metadata": {},
     "output_type": "execute_result"
    }
   ],
   "source": [
    "2**2 \n"
   ]
  },
  {
   "cell_type": "code",
   "execution_count": 6,
   "id": "5e1468e2-f562-4f1e-8b04-39d6c596cdba",
   "metadata": {},
   "outputs": [
    {
     "data": {
      "text/plain": [
       "3"
      ]
     },
     "execution_count": 6,
     "metadata": {},
     "output_type": "execute_result"
    }
   ],
   "source": [
    "8%5"
   ]
  },
  {
   "cell_type": "code",
   "execution_count": 7,
   "id": "adaad6b3-78c2-494b-873e-a4aa452f27ed",
   "metadata": {},
   "outputs": [],
   "source": [
    "var1 = 2"
   ]
  },
  {
   "cell_type": "code",
   "execution_count": 8,
   "id": "a3fb3356-6e0c-4ba9-b247-0d33c94fea13",
   "metadata": {},
   "outputs": [
    {
     "data": {
      "text/plain": [
       "2"
      ]
     },
     "execution_count": 8,
     "metadata": {},
     "output_type": "execute_result"
    }
   ],
   "source": [
    "var1"
   ]
  },
  {
   "cell_type": "code",
   "execution_count": 9,
   "id": "cba4fd5c-f718-4f30-81af-26a7ad1dab92",
   "metadata": {},
   "outputs": [
    {
     "ename": "SyntaxError",
     "evalue": "unterminated string literal (detected at line 1) (2312261822.py, line 1)",
     "output_type": "error",
     "traceback": [
      "  \u001b[36mCell\u001b[39m\u001b[36m \u001b[39m\u001b[32mIn[9]\u001b[39m\u001b[32m, line 1\u001b[39m\n\u001b[31m    \u001b[39m\u001b[31m'string pyton tutorail\"\u001b[39m\n    ^\n\u001b[31mSyntaxError\u001b[39m\u001b[31m:\u001b[39m unterminated string literal (detected at line 1)\n"
     ]
    }
   ],
   "source": [
    "'string pyton tutorail\""
   ]
  },
  {
   "cell_type": "code",
   "execution_count": null,
   "id": "d65a58f3-63e2-4d66-878f-687d35fdbf41",
   "metadata": {},
   "outputs": [],
   "source": [
    "str1 = \"st python tutorial\""
   ]
  },
  {
   "cell_type": "code",
   "execution_count": null,
   "id": "4d3b67f9-e888-4e31-8e4c-a96df8fbc5c2",
   "metadata": {},
   "outputs": [
    {
     "data": {
      "text/plain": [
       "'st python tutorial'"
      ]
     },
     "execution_count": 17,
     "metadata": {},
     "output_type": "execute_result"
    }
   ],
   "source": [
    "str1"
   ]
  },
  {
   "cell_type": "code",
   "execution_count": null,
   "id": "04a9f442-8dac-491c-9bf6-df3b9468bc69",
   "metadata": {},
   "outputs": [
    {
     "name": "stdout",
     "output_type": "stream",
     "text": [
      "st python tutorial\n"
     ]
    }
   ],
   "source": [
    "print(str1)"
   ]
  },
  {
   "cell_type": "code",
   "execution_count": null,
   "id": "e199c467-d336-4ddb-9c13-bd72f82d3344",
   "metadata": {},
   "outputs": [],
   "source": [
    "x = \"R\""
   ]
  },
  {
   "cell_type": "code",
   "execution_count": null,
   "id": "b7f6e364-785f-4934-b5d7-a3ce70620472",
   "metadata": {},
   "outputs": [
    {
     "name": "stdout",
     "output_type": "stream",
     "text": [
      "st R tutorial\n"
     ]
    }
   ],
   "source": [
    "print(\"st {} tutorial\".format(x))"
   ]
  },
  {
   "cell_type": "code",
   "execution_count": null,
   "id": "ca677587-0f1c-4597-86be-8639deee7fc2",
   "metadata": {},
   "outputs": [],
   "source": [
    "x = \"SQL\""
   ]
  },
  {
   "cell_type": "code",
   "execution_count": null,
   "id": "75bcc136-75ef-4660-915a-ec9e07901c2e",
   "metadata": {},
   "outputs": [
    {
     "data": {
      "text/plain": [
       "'st python tutorial'"
      ]
     },
     "execution_count": 24,
     "metadata": {},
     "output_type": "execute_result"
    }
   ],
   "source": [
    "str1"
   ]
  },
  {
   "cell_type": "code",
   "execution_count": null,
   "id": "a1efc83f-2531-4a36-a272-1957690eba61",
   "metadata": {},
   "outputs": [],
   "source": [
    "x = str1.replace(\"python\",\"SQL\")"
   ]
  },
  {
   "cell_type": "code",
   "execution_count": null,
   "id": "b9b05865-a7ae-44bf-8559-b32a964affc5",
   "metadata": {},
   "outputs": [
    {
     "data": {
      "text/plain": [
       "'st SQL tutorial'"
      ]
     },
     "execution_count": 26,
     "metadata": {},
     "output_type": "execute_result"
    }
   ],
   "source": [
    "x"
   ]
  },
  {
   "cell_type": "code",
   "execution_count": null,
   "id": "ea11106a-d807-4e7d-8c4a-81c05ddb15fa",
   "metadata": {},
   "outputs": [
    {
     "data": {
      "text/plain": [
       "' SQ'"
      ]
     },
     "execution_count": 27,
     "metadata": {},
     "output_type": "execute_result"
    }
   ],
   "source": [
    "x[2:5]"
   ]
  },
  {
   "cell_type": "code",
   "execution_count": 13,
   "id": "4c7dcf5e-28a8-4795-8dd4-b6f8b0813270",
   "metadata": {},
   "outputs": [],
   "source": [
    "import openai as ai"
   ]
  },
  {
   "cell_type": "code",
   "execution_count": 14,
   "id": "1618dc9a",
   "metadata": {},
   "outputs": [
    {
     "ename": "AttributeError",
     "evalue": "module 'openai' has no attribute 'get_gpt_response'",
     "output_type": "error",
     "traceback": [
      "\u001b[31m---------------------------------------------------------------------------\u001b[39m",
      "\u001b[31mAttributeError\u001b[39m                            Traceback (most recent call last)",
      "\u001b[36mCell\u001b[39m\u001b[36m \u001b[39m\u001b[32mIn[14]\u001b[39m\u001b[32m, line 2\u001b[39m\n\u001b[32m      1\u001b[39m prompt = \u001b[33m\"\u001b[39m\u001b[33mwho are you?\u001b[39m\u001b[33m\"\u001b[39m\n\u001b[32m----> \u001b[39m\u001b[32m2\u001b[39m \u001b[38;5;28mprint\u001b[39m(\u001b[43mai\u001b[49m\u001b[43m.\u001b[49m\u001b[43mget_gpt_response\u001b[49m(prompt))\n",
      "\u001b[31mAttributeError\u001b[39m: module 'openai' has no attribute 'get_gpt_response'"
     ]
    }
   ],
   "source": [
    "prompt = \"who are you?\"\n",
    "print(ai.get_gpt_response(prompt))\n"
   ]
  }
 ],
 "metadata": {
  "kernelspec": {
   "display_name": "Python 3",
   "language": "python",
   "name": "python3"
  },
  "language_info": {
   "codemirror_mode": {
    "name": "ipython",
    "version": 3
   },
   "file_extension": ".py",
   "mimetype": "text/x-python",
   "name": "python",
   "nbconvert_exporter": "python",
   "pygments_lexer": "ipython3",
   "version": "3.13.2"
  }
 },
 "nbformat": 4,
 "nbformat_minor": 5
}
