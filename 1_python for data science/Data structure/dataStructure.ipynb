{
 "cells": [
  {
   "cell_type": "markdown",
   "id": "23e67702",
   "metadata": {},
   "source": [
    "<h1>List</h1>\n",
    "\n",
    "* mix of data types.\n",
    "* are ordered - can lookup elements by index.\n",
    "* are mutable - can be changed"
   ]
  },
  {
   "cell_type": "code",
   "execution_count": 4,
   "id": "5aa5fe75",
   "metadata": {},
   "outputs": [
    {
     "data": {
      "text/plain": [
       "['Vivek', 'Dumbledore', 'Harry', 'Ron', 'Hermione', 'Draco']"
      ]
     },
     "execution_count": 4,
     "metadata": {},
     "output_type": "execute_result"
    }
   ],
   "source": [
    "names = [\"vivek\", \"dumbledore\",\"harry\",\"ron\",\"hermione\",\"draco\"]\n",
    "capitalized_name = []\n",
    "for name in names:\n",
    "    capitalized_name.append(name.title())\n",
    "    \n",
    "# equals(do.. for)\n",
    "capitalized_name = [name.title() for name in names]\n",
    "capitalized_name"
   ]
  },
  {
   "cell_type": "code",
   "execution_count": null,
   "id": "becd4d3d",
   "metadata": {},
   "outputs": [
    {
     "data": {
      "text/plain": [
       "[0, 1, 8, 27, 64, 10, 12, 14, 16, 18, 20]"
      ]
     },
     "execution_count": 14,
     "metadata": {},
     "output_type": "execute_result"
    }
   ],
   "source": [
    "# do.. for.. if\n",
    "squares = [x**2 for x in range(9) if x%2 == 0]\n",
    "squares\n",
    "\n",
    "# adding else condition\n",
    "cubes = [y**3 if y<5 else y*2 for y in range(11) ]\n",
    "cubes"
   ]
  },
  {
   "cell_type": "code",
   "execution_count": 25,
   "id": "5de70a1d",
   "metadata": {},
   "outputs": [
    {
     "name": "stdout",
     "output_type": "stream",
     "text": [
      "['vivek', 'ana', 'hanna', 'mad', 'professor']\n",
      "['vivek', 'ana', 'mad', 'professor']\n"
     ]
    }
   ],
   "source": [
    "names = [\"vivek kumar\",\"ana steel\",\"hanna baker\",\"mad eye\",\"professor snap\"]\n",
    "first_name = [name.split(\" \")[0] for name in names]\n",
    "print(first_name)\n",
    "\n",
    "scores = {\n",
    "    \"vivek\" : 99,\n",
    "    \"ana\" : 88,\n",
    "    \"hanna\" : 23,\n",
    "    \"mad\" : 98,\n",
    "    \"professor\" : 100\n",
    "}\n",
    "passed = [name for name, score in scores.items() if score>=65]\n",
    "print(passed)"
   ]
  },
  {
   "cell_type": "code",
   "execution_count": 24,
   "id": "666fcb9a",
   "metadata": {},
   "outputs": [
    {
     "data": {
      "text/plain": [
       "[0, 2, 4, 6, 8, 10, 12, 14, 16, 18, 20]"
      ]
     },
     "execution_count": 24,
     "metadata": {},
     "output_type": "execute_result"
    }
   ],
   "source": [
    "even_num = [x for x in range(21) if x%2==0]\n",
    "even_num"
   ]
  },
  {
   "cell_type": "markdown",
   "id": "3df97bb1",
   "metadata": {},
   "source": [
    "<h5>lambda functions</h5>"
   ]
  },
  {
   "cell_type": "code",
   "execution_count": null,
   "id": "94c91900",
   "metadata": {},
   "outputs": [
    {
     "data": {
      "text/plain": [
       "48"
      ]
     },
     "execution_count": 37,
     "metadata": {},
     "output_type": "execute_result"
    }
   ],
   "source": [
    "# lambda functions - lambda (arg1,arg2):do_a_thing_and_return_it\n",
    "multiply = lambda x,y,z:x*y*z\n",
    "multiply(4,6,2)"
   ]
  },
  {
   "cell_type": "markdown",
   "id": "59bae851",
   "metadata": {},
   "source": [
    "<h5> map()- apply lambda function to a list</h5>"
   ]
  },
  {
   "cell_type": "code",
   "execution_count": null,
   "id": "9f52b73e",
   "metadata": {},
   "outputs": [
    {
     "name": "stdout",
     "output_type": "stream",
     "text": [
      "[30.8, 39.2, 51.4, 26.9725]\n"
     ]
    }
   ],
   "source": [
    "numbers = [\n",
    "    [23,42,11,44,34],\n",
    "    [22,66,22,11,75],\n",
    "    [32,98,15,78,34],\n",
    "    [28.89,24,11,44]\n",
    "]\n",
    "# mean = lambda num_list : sum(num_list)/len(num_list)\n",
    "# averages = list(map(mean,numbers))\n",
    "\n",
    "averages = list(map(lambda num_list : sum(num_list)/len(num_list),numbers))\n",
    "print(averages)"
   ]
  },
  {
   "cell_type": "markdown",
   "id": "edf08164",
   "metadata": {},
   "source": [
    "<h5>filter()-apply lambda function to a list</h5>"
   ]
  },
  {
   "cell_type": "code",
   "execution_count": 42,
   "id": "d6c7ed20",
   "metadata": {},
   "outputs": [
    {
     "ename": "TypeError",
     "evalue": "<lambda>() takes 0 positional arguments but 1 was given",
     "output_type": "error",
     "traceback": [
      "\u001b[31m---------------------------------------------------------------------------\u001b[39m",
      "\u001b[31mTypeError\u001b[39m                                 Traceback (most recent call last)",
      "\u001b[36mCell\u001b[39m\u001b[36m \u001b[39m\u001b[32mIn[42]\u001b[39m\u001b[32m, line 4\u001b[39m\n\u001b[32m      2\u001b[39m cities = [\u001b[33m\"\u001b[39m\u001b[33mNew York City\u001b[39m\u001b[33m\"\u001b[39m,\u001b[33m\"\u001b[39m\u001b[33mLos Angeles\u001b[39m\u001b[33m\"\u001b[39m,\u001b[33m\"\u001b[39m\u001b[33mChicago\u001b[39m\u001b[33m\"\u001b[39m,\u001b[33m\"\u001b[39m\u001b[33mMountain View\u001b[39m\u001b[33m\"\u001b[39m, \u001b[33m\"\u001b[39m\u001b[33mDenver\u001b[39m\u001b[33m\"\u001b[39m,\u001b[33m\"\u001b[39m\u001b[33mBoston\u001b[39m\u001b[33m\"\u001b[39m,\u001b[33m\"\u001b[39m\u001b[33mTokyo\u001b[39m\u001b[33m\"\u001b[39m,\u001b[33m\"\u001b[39m\u001b[33mSpain\u001b[39m\u001b[33m\"\u001b[39m]\n\u001b[32m      3\u001b[39m is_short = \u001b[38;5;28;01mlambda\u001b[39;00m : \u001b[38;5;28mlen\u001b[39m(name)<\u001b[32m10\u001b[39m\n\u001b[32m----> \u001b[39m\u001b[32m4\u001b[39m short_cities = \u001b[38;5;28;43mlist\u001b[39;49m\u001b[43m(\u001b[49m\u001b[38;5;28;43mfilter\u001b[39;49m\u001b[43m(\u001b[49m\u001b[43mis_short\u001b[49m\u001b[43m,\u001b[49m\u001b[43mcities\u001b[49m\u001b[43m)\u001b[49m\u001b[43m)\u001b[49m\n",
      "\u001b[31mTypeError\u001b[39m: <lambda>() takes 0 positional arguments but 1 was given"
     ]
    }
   ],
   "source": [
    "#example of using filter() to apply lambda function to a list\n",
    "cities = [\"New York City\",\"Los Angeles\",\"Chicago\",\"Mountain View\", \"Denver\",\"Boston\",\"Tokyo\",\"Spain\"]\n",
    "is_short = lambda : len(name)<10\n",
    "short_cities = list(filter(is_short,cities))\n"
   ]
  }
 ],
 "metadata": {
  "kernelspec": {
   "display_name": "Python 3",
   "language": "python",
   "name": "python3"
  },
  "language_info": {
   "codemirror_mode": {
    "name": "ipython",
    "version": 3
   },
   "file_extension": ".py",
   "mimetype": "text/x-python",
   "name": "python",
   "nbconvert_exporter": "python",
   "pygments_lexer": "ipython3",
   "version": "3.13.2"
  }
 },
 "nbformat": 4,
 "nbformat_minor": 5
}
